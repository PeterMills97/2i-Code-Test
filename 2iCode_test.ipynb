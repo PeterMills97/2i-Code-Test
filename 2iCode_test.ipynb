{
 "cells": [
  {
   "cell_type": "code",
   "execution_count": 28,
   "id": "976399ca",
   "metadata": {},
   "outputs": [],
   "source": [
    "def code_test(A,X):\n",
    "    if type(A)!=int or type(X)!=int:\n",
    "        print(\"Invalid input to code_test\")\n",
    "        return \n",
    "    for i in range(A,X+1,A):\n",
    "        print(i)\n",
    "    \n",
    "    if X%(A+1)!=0:\n",
    "        start=X+((-X)%(A+1))\n",
    "    else:\n",
    "        start=X+A+1\n",
    "    \n",
    "    for i in range(start,2*X+1,A+1):\n",
    "        print(i)\n",
    "    \n",
    "    if (2*X)%(A+2)!=0:\n",
    "        start=2*X+((-2*X)%(A+2))\n",
    "    else:\n",
    "        start=(2*X)+A+1\n",
    "    \n",
    "    for i in range(start,3*X+1,A+2):\n",
    "        print(i)\n",
    "\n",
    "#code_test(A,X) when this function is called it will iterate through multiples of A until X is reached,A+1 until 2X \n",
    "#and, A+2 until 3x. I have assumed that the arguments of the function will be integers and the initial if statment\n",
    "#will stop the function before an error occurs if they are not.\n"
   ]
  },
  {
   "cell_type": "code",
   "execution_count": null,
   "id": "5e5778e0",
   "metadata": {},
   "outputs": [],
   "source": []
  },
  {
   "cell_type": "code",
   "execution_count": null,
   "id": "47188436",
   "metadata": {},
   "outputs": [],
   "source": []
  }
 ],
 "metadata": {
  "kernelspec": {
   "display_name": "Python 3 (ipykernel)",
   "language": "python",
   "name": "python3"
  },
  "language_info": {
   "codemirror_mode": {
    "name": "ipython",
    "version": 3
   },
   "file_extension": ".py",
   "mimetype": "text/x-python",
   "name": "python",
   "nbconvert_exporter": "python",
   "pygments_lexer": "ipython3",
   "version": "3.9.12"
  }
 },
 "nbformat": 4,
 "nbformat_minor": 5
}
